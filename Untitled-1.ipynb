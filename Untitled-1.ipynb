{
 "cells": [
  {
   "cell_type": "code",
   "execution_count": 8,
   "metadata": {},
   "outputs": [
    {
     "data": {
      "text/plain": [
       "{'Marta': 9, 'Paco': 7, 'Nuria': 10, 'Fernando': 2}"
      ]
     },
     "execution_count": 8,
     "metadata": {},
     "output_type": "execute_result"
    }
   ],
   "source": [
    "#- Dada una lista de nombres de alumnos, y otra con las notas cada uno, \n",
    "# genera un diccionario que indique para cada alumno sus notas.\n",
    "\n",
    "l1=[\"Marta\", \"Paco\", \"Nuria\", \"Fernando\"]\n",
    "l2=[9,7,10,2]\n",
    "dict1=zip(l1,l2)\n",
    "dict2=dict(dict1)\n",
    "dict2"
   ]
  },
  {
   "cell_type": "code",
   "execution_count": null,
   "metadata": {},
   "outputs": [],
   "source": [
    "#Genera una lista de alumnos a partir del diccionario anterior \n",
    "# ordenado por notas descendents. Usar sorted-lambda"
   ]
  },
  {
   "cell_type": "code",
   "execution_count": 19,
   "metadata": {},
   "outputs": [
    {
     "data": {
      "text/plain": [
       "[('Marta', 9), ('Paco', 7), ('Nuria', 10), ('Fernando', 2)]"
      ]
     },
     "execution_count": 19,
     "metadata": {},
     "output_type": "execute_result"
    }
   ],
   "source": [
    "lista1=list(dict2.items())\n",
    "lista1"
   ]
  },
  {
   "cell_type": "code",
   "execution_count": 26,
   "metadata": {},
   "outputs": [
    {
     "data": {
      "text/plain": [
       "[('Nuria', 10), ('Marta', 9), ('Paco', 7), ('Fernando', 2)]"
      ]
     },
     "execution_count": 26,
     "metadata": {},
     "output_type": "execute_result"
    }
   ],
   "source": [
    "lista2=sorted(lista1,key=lambda x: x[1], reverse=True)\n",
    "lista2"
   ]
  },
  {
   "cell_type": "code",
   "execution_count": 29,
   "metadata": {},
   "outputs": [
    {
     "data": {
      "text/plain": [
       "['Nuria', 'Fernando', 'Marta', 'Paco']"
      ]
     },
     "execution_count": 29,
     "metadata": {},
     "output_type": "execute_result"
    }
   ],
   "source": [
    "lista2=sorted(dict2,key=lambda x: x[1], reverse=True)\n",
    "lista2"
   ]
  },
  {
   "cell_type": "code",
   "execution_count": 27,
   "metadata": {},
   "outputs": [
    {
     "data": {
      "text/plain": [
       "{'Juan': 6, 'Ana': 5, 'Pedro': 9, 'Luisa': 10}"
      ]
     },
     "execution_count": 27,
     "metadata": {},
     "output_type": "execute_result"
    }
   ],
   "source": [
    "\n",
    "# \n",
    "alumnos = ['Juan', 'Ana', 'Pedro', 'Luisa']\n",
    "notas = [6, 5, 9 , 10]\n",
    "\n",
    "comb = list(zip(alumnos, notas))\n",
    "dict_alumnos = dict(comb)\n",
    "dict_alumnos"
   ]
  },
  {
   "cell_type": "code",
   "execution_count": 28,
   "metadata": {},
   "outputs": [
    {
     "data": {
      "text/plain": [
       "['Luisa', 'Pedro', 'Juan', 'Ana']"
      ]
     },
     "execution_count": 28,
     "metadata": {},
     "output_type": "execute_result"
    }
   ],
   "source": [
    "\n",
    "# Genera una lista de alumnos a partir del diccionario anterior ordenado por notas descendents. Usar sorted-lambda (https://docs.python.org/3/howto/sorting.html)\n",
    "# funcx\n",
    "\n",
    "alumnos_ord = sorted(dict_alumnos, key=lambda s: s[2], reverse=True)\n",
    "alumnos_ord"
   ]
  },
  {
   "cell_type": "code",
   "execution_count": null,
   "metadata": {},
   "outputs": [],
   "source": [
    "#Genera un programa que encuentre el mayor de 3 números en tres variables, \n",
    "# usando solo if-elif-else"
   ]
  },
  {
   "cell_type": "code",
   "execution_count": 51,
   "metadata": {},
   "outputs": [
    {
     "name": "stdout",
     "output_type": "stream",
     "text": [
      "b es el mayor\n"
     ]
    }
   ],
   "source": [
    "a=100\n",
    "b=160\n",
    "c=50\n",
    "if a>b and a>c:\n",
    "    print (\"a es el mayor\")\n",
    "elif a<b and b>c:\n",
    "        print (\"b es el mayor\")\n",
    "\n",
    "else:\n",
    "    print(\"c es el mayor\")"
   ]
  },
  {
   "cell_type": "code",
   "execution_count": 72,
   "metadata": {},
   "outputs": [
    {
     "name": "stdout",
     "output_type": "stream",
     "text": [
      "100 es el número mayor\n"
     ]
    }
   ],
   "source": [
    "# Extiende la lógica anterior para una lista de números\n",
    "lista1=[11,60,100,90,5,10]\n",
    "valor0=0\n",
    "for x in lista1:\n",
    "    if x>valor0:\n",
    "        valor0=x\n",
    "print (valor0,\"es el número mayor\")\n",
    "\n",
    "\n"
   ]
  },
  {
   "cell_type": "code",
   "execution_count": 70,
   "metadata": {},
   "outputs": [
    {
     "name": "stdout",
     "output_type": "stream",
     "text": [
      "90\n"
     ]
    }
   ],
   "source": [
    "l1=[11,60,10,90,5,10]\n",
    "cont=0\n",
    "for x in l1:\n",
    "    if x>cont:\n",
    "        cont=x\n",
    "print (cont)"
   ]
  },
  {
   "cell_type": "code",
   "execution_count": 77,
   "metadata": {},
   "outputs": [
    {
     "name": "stdout",
     "output_type": "stream",
     "text": [
      "9\n"
     ]
    }
   ],
   "source": [
    "#- Extendiende la lógica antarior para un diccionario: {'john':4, 'Anna': 7, 'Peter': 1, 'Riga': 9}\n",
    "dict1= {'john':4, 'Anna': 7, 'Peter': 1, 'Riga': 9}\n",
    "list1=list(dict1.values())\n",
    "list1\n",
    "x0=0\n",
    "for x in list1:\n",
    "    if x>x0:\n",
    "        x0=x\n",
    "print(x0)\n",
    "\n",
    "\n"
   ]
  }
 ],
 "metadata": {
  "kernelspec": {
   "display_name": "Python 3.8 - AzureML",
   "language": "python",
   "name": "python38-azureml"
  }
 },
 "nbformat": 4,
 "nbformat_minor": 2
}
