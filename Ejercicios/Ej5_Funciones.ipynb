{
 "cells": [
  {
   "cell_type": "code",
   "execution_count": 2,
   "metadata": {},
   "outputs": [
    {
     "name": "stdout",
     "output_type": "stream",
     "text": [
      "True\n"
     ]
    }
   ],
   "source": [
    "# Implementa una función que verifique si una palabra dada es un palíndromo (se lee igual adelante o atrás)\n",
    "# Primera forma; con if \n",
    "\n",
    "def pal (texto):\n",
    "    es_pal=texto\n",
    "    if texto==texto[::-1]: #\"=\" es para asignar valores y == para comparar\n",
    "        return True\n",
    "palabra=\"ana\"\n",
    "print (pal(palabra))\n",
    "\n"
   ]
  },
  {
   "cell_type": "code",
   "execution_count": 20,
   "metadata": {},
   "outputs": [
    {
     "name": "stdout",
     "output_type": "stream",
     "text": [
      "True\n"
     ]
    }
   ],
   "source": [
    "# Implementa una función que verifique si una palabra dada es un palíndromo (se lee igual adelante o atrás)\n",
    "# Primera forma; Ricardo sin if.\n",
    "def pal (texto):\n",
    "    es_pal=texto==texto[::-1] #\"=\" es para asignar valores y == para comparar\n",
    "    return es_pal #te devuelve el resultado de la comparación (booleano)\n",
    "\n",
    "palabra=\"ana\"\n",
    "print (pal(palabra))"
   ]
  },
  {
   "cell_type": "code",
   "execution_count": 29,
   "metadata": {},
   "outputs": [
    {
     "name": "stdout",
     "output_type": "stream",
     "text": [
      "True\n",
      "False\n"
     ]
    }
   ],
   "source": [
    "# Implementa una función que verifique si una palabra dada es un palíndromo (se lee igual adelante o atrás)\n",
    "#segunda forma; Ricardo\n",
    "\n",
    "def e_pal(palabra):\n",
    "    palabra_reverse =''.join(reversed(list(palabra)))  #Cadena vacía '': Une los elementos sin ningún separador.\n",
    "    es_pal2= palabra ==palabra_reverse\n",
    "    return es_pal2\n",
    "\n",
    "palabra_input=\"ana\"\n",
    "print(e_pal(palabra_input))\n",
    "\n",
    "palabra_input=\"hola\"\n",
    "print(e_pal(palabra_input))"
   ]
  },
  {
   "cell_type": "code",
   "execution_count": 9,
   "metadata": {},
   "outputs": [
    {
     "name": "stdout",
     "output_type": "stream",
     "text": [
      "5\n"
     ]
    }
   ],
   "source": [
    "# Implementa un función que reciba una serie de números como parámetro y determine cuantos impares hay en ella.\n",
    "def contar_impares(numeros):\n",
    "    num0=0\n",
    "    for n in numeros:\n",
    "        if n%2!=0: #% es el resto\n",
    "            num0+=1\n",
    "    return num0\n",
    "\n",
    "lista_numeros=(1,2,6,3,9,8,7,1)\n",
    "números_impares=contar_impares(lista_numeros)\n",
    "print (números_impares)\n",
    "\n",
    "    "
   ]
  },
  {
   "cell_type": "code",
   "execution_count": 15,
   "metadata": {},
   "outputs": [
    {
     "name": "stdout",
     "output_type": "stream",
     "text": [
      "{'nombre': 'Meteoro', 'direccion': 'Calle A', 'edad': 16}\n"
     ]
    }
   ],
   "source": [
    "alumnos = [\n",
    "    {'nombre': 'Ana', 'direccion': 'Calle X', 'edad': 22},\n",
    "    {'nombre': 'Luis', 'direccion': 'Calle Y', 'edad': 24},\n",
    "    {'nombre': 'Juana', 'direccion': 'Calle Z', 'edad': 43},\n",
    "    {'nombre': 'Meteoro', 'direccion': 'Calle A', 'edad': 16}]\n",
    "\n",
    "for diccionario_alumno in alumnos:\n",
    "    diccionario_alumno=alumnos[3]\n",
    "print (diccionario_alumno)"
   ]
  },
  {
   "cell_type": "code",
   "execution_count": 12,
   "metadata": {},
   "outputs": [
    {
     "name": "stdout",
     "output_type": "stream",
     "text": [
      "Ana\n",
      "Luis\n",
      "Juana\n",
      "Meteoro\n"
     ]
    }
   ],
   "source": [
    "alumnos = [\n",
    "    {'nombre': 'Ana', 'direccion': 'Calle X', 'edad': 22},\n",
    "    {'nombre': 'Luis', 'direccion': 'Calle Y', 'edad': 24},\n",
    "    {'nombre': 'Juana', 'direccion': 'Calle Z', 'edad': 43},\n",
    "    {'nombre': 'Meteoro', 'direccion': 'Calle A', 'edad': 16}]\n",
    "\n",
    "for diccionario_alumno in alumnos:\n",
    "    nombres=diccionario_alumno['nombre']\n",
    "    print (nombres)"
   ]
  },
  {
   "cell_type": "code",
   "execution_count": 25,
   "metadata": {},
   "outputs": [
    {
     "name": "stdout",
     "output_type": "stream",
     "text": [
      "[{'nombre': 'ANa', 'direccion': 'Calle X', 'edad': 22}, {'nombre': 'LUis', 'direccion': 'Calle Y', 'edad': 24}, {'nombre': 'JuAna', 'direccion': 'Calle Z', 'edad': 43}, {'nombre': 'MetEoro', 'direccion': 'Calle A', 'edad': 16}]\n"
     ]
    }
   ],
   "source": [
    "# Dada una lista de alumnos, donde cada alumno es un dictionario con \"nombre, direccion y edad\", \n",
    "# implementa una solución basada en funciones que transforme la letra intermedia (o más cercana al centro) \n",
    "# del nombre de cada alumno en mayúscula y el resto en minúsculas.\n",
    "def cambio (lista_alumnos):\n",
    "    for diccionario_alumno in lista_alumnos:\n",
    "        nombre_alumno=diccionario_alumno['nombre']\n",
    "        longitud=len(nombre_alumno)\n",
    "        if longitud%2==0:\n",
    "            letra=longitud//2-1 #1234 0123; el resultado de palabra de 4 letras, 4/2=2-1=1; una posición intermermedia será 01\n",
    "        else:\n",
    "            letra=longitud//2 #12345; 5/2-1; 3-1=2; posición 2 que equivale a la 3letra  012\n",
    "        nombre_modificado=nombre_alumno[:letra]+nombre_alumno[letra].upper()+nombre_alumno[letra+1:].lower()\n",
    "        diccionario_alumno['nombre']=nombre_modificado\n",
    "     \n",
    "    return(lista_alumnos)\n",
    "\n",
    "\n",
    "alumnos = [\n",
    "    {'nombre': 'Ana', 'direccion': 'Calle X', 'edad': 22},\n",
    "    {'nombre': 'Luis', 'direccion': 'Calle Y', 'edad': 24},\n",
    "    {'nombre': 'Juana', 'direccion': 'Calle Z', 'edad': 43},\n",
    "    {'nombre': 'Meteoro', 'direccion': 'Calle A', 'edad': 16}]\n",
    "\n",
    "print(cambio(alumnos))"
   ]
  },
  {
   "cell_type": "code",
   "execution_count": null,
   "metadata": {},
   "outputs": [],
   "source": [
    "alumnos = [\n",
    "    {'nombre': 'Ana', 'direccion': 'Calle X', 'edad': 22},\n",
    "    {'nombre': 'Luis', 'direccion': 'Calle Y', 'edad': 24},\n",
    "    {'nombre': 'Juana', 'direccion': 'Calle Z', 'edad': 43},\n",
    "    {'nombre': 'Meteoro', 'direccion': 'Calle A', 'edad': 16}]\n",
    "\n",
    "print(cambio(alumnos))"
   ]
  },
  {
   "cell_type": "code",
   "execution_count": null,
   "metadata": {},
   "outputs": [],
   "source": []
  },
  {
   "cell_type": "code",
   "execution_count": null,
   "metadata": {},
   "outputs": [],
   "source": [
    "# Dada una lista de alumnos anterior, donde cada alumno es un dictionario con nombre, direccion y edad; \n",
    "# implementa una solución basada en funciones que transforme la lista en dos listas de tuplas del tipo (nombre, direccion), (nombre, edad)."
   ]
  },
  {
   "cell_type": "code",
   "execution_count": null,
   "metadata": {},
   "outputs": [],
   "source": []
  },
  {
   "cell_type": "code",
   "execution_count": null,
   "metadata": {},
   "outputs": [],
   "source": [
    "# Escribe una expresión lambda que eleve al cubo todos los números de la lista siguiente: [1,2,3,4,5,6,7,8], usando la función map"
   ]
  },
  {
   "cell_type": "code",
   "execution_count": null,
   "metadata": {},
   "outputs": [],
   "source": []
  }
 ],
 "metadata": {
  "kernelspec": {
   "display_name": "Python 3.8 - AzureML",
   "language": "python",
   "name": "python38-azureml"
  },
  "language_info": {
   "codemirror_mode": {
    "name": "ipython",
    "version": 3
   },
   "file_extension": ".py",
   "mimetype": "text/x-python",
   "name": "python",
   "nbconvert_exporter": "python",
   "pygments_lexer": "ipython3",
   "version": "3.10.11"
  }
 },
 "nbformat": 4,
 "nbformat_minor": 2
}
