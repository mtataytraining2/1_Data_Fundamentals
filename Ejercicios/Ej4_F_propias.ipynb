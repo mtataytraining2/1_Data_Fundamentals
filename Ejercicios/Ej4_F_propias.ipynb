{
 "cells": [
  {
   "cell_type": "code",
   "execution_count": null,
   "metadata": {},
   "outputs": [],
   "source": [
    "#Genera un programa que encuentre el mayor de 3 números en tres variables, \n",
    "# usando solo if-elif-else"
   ]
  },
  {
   "cell_type": "code",
   "execution_count": 15,
   "metadata": {},
   "outputs": [
    {
     "name": "stdout",
     "output_type": "stream",
     "text": [
      "90 n3 es el mayor\n"
     ]
    }
   ],
   "source": [
    "n1=7\n",
    "n2=10\n",
    "n3=90\n",
    "if n1>n2 and n1>n3:\n",
    "    print (n1, \"n1 es el mayor\")\n",
    "elif n1<=n2 and n2>n3:\n",
    "    print (n2,\"n2 es el mayor\")\n",
    "else:\n",
    "    print (n3,\"n3 es el mayor\")\n"
   ]
  },
  {
   "cell_type": "code",
   "execution_count": null,
   "metadata": {},
   "outputs": [],
   "source": [
    "# Extiende la lógica anterior para una lista de números"
   ]
  },
  {
   "cell_type": "code",
   "execution_count": 2,
   "metadata": {},
   "outputs": [
    {
     "name": "stdout",
     "output_type": "stream",
     "text": [
      "50\n"
     ]
    }
   ],
   "source": [
    "l1=[10,3,50,2]\n",
    "cont=0\n",
    "for x in l1:\n",
    "    if x>cont:\n",
    "        cont=x\n",
    "print (cont)"
   ]
  },
  {
   "cell_type": "code",
   "execution_count": null,
   "metadata": {},
   "outputs": [],
   "source": [
    "#- Extendiende la lógica antarior para un diccionario: {'john':4, 'Anna': 7, 'Peter': 1, 'Riga': 9}"
   ]
  },
  {
   "cell_type": "code",
   "execution_count": 8,
   "metadata": {},
   "outputs": [
    {
     "data": {
      "text/plain": [
       "[('john', 4), ('Anna', 7), ('Peter', 1), ('Riga', 9)]"
      ]
     },
     "execution_count": 8,
     "metadata": {},
     "output_type": "execute_result"
    }
   ],
   "source": [
    "dict1={'john':4, 'Anna': 7, 'Peter': 1, 'Riga': 9}\n",
    "l1=list(dict1.items())\n",
    "l1"
   ]
  },
  {
   "cell_type": "code",
   "execution_count": 4,
   "metadata": {},
   "outputs": [
    {
     "name": "stdout",
     "output_type": "stream",
     "text": [
      "[('john', 4), ('Anna', 7), ('Peter', 11), ('Riga', 10)]\n",
      "11\n"
     ]
    }
   ],
   "source": [
    "dict1={'john':4, 'Anna': 7, 'Peter': 11, 'Riga': 10}\n",
    "l1=list(dict1.items()) #pasarlo por tuplas\n",
    "print(l1)\n",
    "cont=0\n",
    "for n,m in l1:\n",
    "    if m>cont:\n",
    "       cont=m\n",
    "print (cont)  # Esto imprimirá el valor máximo encontrado en el bucle; no poner print (m)"
   ]
  },
  {
   "cell_type": "code",
   "execution_count": 6,
   "metadata": {},
   "outputs": [
    {
     "name": "stdout",
     "output_type": "stream",
     "text": [
      "[4, 7, 11, 10]\n",
      "11\n"
     ]
    }
   ],
   "source": [
    "# sin pasarlo por tuplas, haciendo lista de los valores:\n",
    "dict1={'john':4, 'Anna': 7, 'Peter': 11, 'Riga': 10}\n",
    "l1=list(dict1.values()) #pasarlo por lista de valores\n",
    "print(l1)\n",
    "cont=0\n",
    "for m in l1:\n",
    "    if m>cont:\n",
    "       cont=m\n",
    "print (cont)  # Esto imprimirá el valor máximo encontrado en el bucle; no poner print (m)"
   ]
  },
  {
   "cell_type": "code",
   "execution_count": null,
   "metadata": {},
   "outputs": [],
   "source": [
    "#- La fiesta VIP de John\n",
    "#John desea realizar una fiesta VIP; pero el año anterior una persona se coló utilizando el mismo nombre de otra. \n",
    "#Y por eso John ha decidido este año que el portero pida el número de documento.\n",
    "#El programa deberá tener una lista de dnis aprobados. \n",
    "#El portero deberá poder introducir el número de documento de quien solicita entrar a la fiesta y comprobar si existe en la lista. \n",
    "#Si está, se muestra un PERMITIDO ENTRAR. Luego debe mostrar cuántas personas de la lista quedan por entrar.\n",
    "#Si no está en la lista, deberá indicar NO PERMITIDO y seguir esperando un nuevo documento.\n",
    "#Cuando se complete la lista, seberá indicar COMPLETADO y salir.\n",
    "#La lista, una vez definida por John, no debe poder modificarse durante el proceso."
   ]
  },
  {
   "cell_type": "code",
   "execution_count": 10,
   "metadata": {},
   "outputs": [
    {
     "name": "stdout",
     "output_type": "stream",
     "text": [
      "1 NO PERMITIDO ;quedan 4 potr entrar\n",
      "2 NO PERMITIDO ;quedan 4 potr entrar\n",
      "d1 PERMITIDO ENTRAR\n",
      "quedan 3 por entrar\n",
      "d2 PERMITIDO ENTRAR\n",
      "quedan 2 por entrar\n",
      "d3 PERMITIDO ENTRAR\n",
      "quedan 1 por entrar\n",
      "3 NO PERMITIDO ;quedan 1 potr entrar\n",
      "d4 PERMITIDO ENTRAR\n",
      "quedan 0 por entrar\n",
      "ENTRADA COMPLETADA\n"
     ]
    }
   ],
   "source": [
    "dni_aprob=[\"d1\", \"d2\",\"d3\", \"d4\"]\n",
    "dni_mutable=dni_aprob\n",
    "cont_quedan=len(dni_aprob)\n",
    "while cont_quedan>0:\n",
    "    dni_entrante=input(\"intoduce número de dni\")\n",
    "    if dni_entrante in dni_aprob:\n",
    "        print (dni_entrante, \"PERMITIDO ENTRAR\")\n",
    "        dni_mutable.remove(dni_entrante)\n",
    "        cont_quedan=len(dni_mutable)\n",
    "        print(\"quedan\",cont_quedan,\"por entrar\")\n",
    "    else: print (dni_entrante, \"NO PERMITIDO\", \";quedan\", cont_quedan,\"potr entrar\")\n",
    "    if cont_quedan==0:\n",
    "        print (\"ENTRADA COMPLETADA\")\n",
    "\n",
    "\n",
    "\n",
    "\n",
    "\n",
    "\n"
   ]
  },
  {
   "cell_type": "code",
   "execution_count": 11,
   "metadata": {},
   "outputs": [
    {
     "name": "stdout",
     "output_type": "stream",
     "text": [
      "NO PERMITIDO: 1\n",
      "NO PERMITIDO: 2\n",
      "PERMITIDO ENTRAR: d1\n",
      "Quedan: 3\n",
      "PERMITIDO ENTRAR: d2\n",
      "Quedan: 2\n",
      "PERMITIDO ENTRAR: d3\n",
      "Quedan: 1\n",
      "NO PERMITIDO: 3\n",
      "PERMITIDO ENTRAR: d4\n",
      "COMPLETADO\n"
     ]
    }
   ],
   "source": [
    "# SOLUCIÓN rICARDO\n",
    "dnis = ('d1','d2','d3','d4')\n",
    "mutable_dnis = list(dnis)\n",
    "quedan = len(dnis)\n",
    "\n",
    "while quedan:\n",
    "    aDni = input('dni?')\n",
    "    \n",
    "    if aDni in mutable_dnis:\n",
    "        print('PERMITIDO ENTRAR:', aDni)\n",
    "        mutable_dnis.remove(aDni)\n",
    "        quedan = len(mutable_dnis)\n",
    "\n",
    "        if quedan:\n",
    "            print('Quedan:', quedan)\n",
    "        else:\n",
    "            print('COMPLETADO')\n",
    "            \n",
    "    else:\n",
    "        print('NO PERMITIDO:', aDni)"
   ]
  },
  {
   "cell_type": "code",
   "execution_count": 10,
   "metadata": {},
   "outputs": [
    {
     "name": "stdout",
     "output_type": "stream",
     "text": [
      "<class 'list'>\n",
      "<class 'list'>\n"
     ]
    }
   ],
   "source": [
    "dni_aprob=[\"12R\", \"15T\",\"18I\", \"80P\"]\n",
    "copia_dni=dni_aprob\n",
    "print(type(dni_aprob))\n",
    "print(type(copia_dni))\n",
    "cont_quedan=len(dni_aprob)"
   ]
  },
  {
   "cell_type": "code",
   "execution_count": null,
   "metadata": {},
   "outputs": [
    {
     "name": "stdout",
     "output_type": "stream",
     "text": [
      "no permitido, se está colando\n"
     ]
    }
   ],
   "source": [
    "dni_aprob=[\"12R\", \"15T\",\"18I\", \"80P\"]\n",
    "dni=input(\"introduce DNI del asistente:\")\n",
    "if dni in dni_aprob:\n",
    "    print(\"acceso permitido\")\n",
    "else:\n",
    "    print (\"no permitido, se está colando\")\n"
   ]
  },
  {
   "cell_type": "code",
   "execution_count": 31,
   "metadata": {},
   "outputs": [
    {
     "name": "stdout",
     "output_type": "stream",
     "text": [
      "no permitido, se está colando\n",
      "no permitido, se está colando\n",
      "no permitido, se está colando\n",
      "no permitido, se está colando\n",
      "3 quedan\n"
     ]
    }
   ],
   "source": [
    "dni_aprob=[\"12R\", \"15T\",\"18I\", \"80P\"]\n",
    "dni=input(\"introduce DNI del asistente:\")\n",
    "#inicializador\n",
    "dni_restantes=len(dni_aprob)\n",
    "dni_restantes -=1\n",
    "for n in dni_aprob:\n",
    "    if dni in dni_aprob:\n",
    "        print(\"acceso permitido\")\n",
    "        break\n",
    "    else:\n",
    "     print (\"no permitido, se está colando\")\n",
    "print (dni_restantes, \"quedan\")"
   ]
  },
  {
   "cell_type": "code",
   "execution_count": null,
   "metadata": {},
   "outputs": [],
   "source": [
    "#- Se tiene una lista de alumnos con sus asignaturas y la nota más alta y nota más baja de cada una. \n",
    "# https://github.com/ricardoahumada/pythonfundamentals/blob/main/data/notas.py\n",
    "\n",
    "#Genera un programa que permita completar y extraer datos estadísticos de la lista de la siguiente manera: \n",
    "\t#1- Completar la nota media de cada alumno por asignatura.\n",
    "   \t\t# Algoritmo 1\n",
    "   \t\t\t#PARA CADA alumno:\n",
    "   \t\t\t\t#PARA CADA asignatura:\n",
    "    \t\t\t\t#calcular nota media\n",
    "       \t\t\t\t\t #añadir el valor al asignatura\n",
    "\t#2- Obtener la media global por asignatura.\n",
    "\t#3- Obtener la media global por alumno.\n",
    "\t#4- Obtener la media global de todos los alumnos.\n",
    "\t#5- Obtener para un alumno determinado, la nota media.\n",
    "\t#6- Obtener los alumnos con una nota media superior o igual a un número dado (5).\n",
    "#Haz que el programa solicite la opción que quieres ejecutar el prompt "
   ]
  },
  {
   "cell_type": "code",
   "execution_count": 19,
   "metadata": {},
   "outputs": [],
   "source": [
    "notas = {\n",
    "\"Sosanna\": [{'maths': (4, 3)}, {'lang': (5, 5)}], \n",
    "\"Rosalind\": [{'maths': (8, 6)}, {'lang': (10, 5)}], \n",
    "\"Gaspar\": [{'maths': (1, 6)}, {'lang': (7, 5)}], \n",
    "\"Herve\": [{'maths': (2, 5)}, {'lang': (8, 2)}], \n",
    "\"Jayme\": [{'maths': (5, 1)}, {'lang': (10, 7)}], \n",
    "\"Dasya\": [{'maths': (5, 3)}, {'lang': (8, 2)}], \n",
    "\"Christean\": [{'maths': (2, 10)}, {'lang': (3, 6)}], \n",
    "\"Risa\": [{'maths': (9, 9)}, {'lang': (2, 7)}], \n",
    "\"Florenza\": [{'maths': (10, 6)}, {'lang': (5, 5)}], \n",
    "\"Donella\": [{'maths': (10, 3)}, {'lang': (8, 3)}], \n",
    "\"Cesaro\": [{'maths': (2, 4)}, {'lang': (1, 7)}], \n",
    "\"Beatrisa\": [{'maths': (9, 2)}, {'lang': (1, 5)}], \n",
    "\"Thain\": [{'maths': (1, 7)}, {'lang': (6, 3)}], \n",
    "\"Shaylah\": [{'maths': (6, 7)}, {'lang': (2, 1)}], \n",
    "\"Anne-marie\": [{'maths': (4, 6)}, {'lang': (4, 3)}], \n",
    "\"Swen\": [{'maths': (8, 5)}, {'lang': (7, 6)}], \n",
    "\"Vaclav\": [{'maths': (1, 4)}, {'lang': (9, 10)}], \n",
    "\"Hermine\": [{'maths': (2, 1)}, {'lang': (8, 1)}], \n",
    "\"Sybyl\": [{'maths': (10, 2)}, {'lang': (3, 10)}], \n",
    "\"Ynes\": [{'maths': (6, 10)}, {'lang': (3, 2)}], \n",
    "\"Antonie\": [{'maths': (9, 3)}, {'lang': (4, 9)}], \n",
    "\"Trixie\": [{'maths': (9, 10)}, {'lang': (5, 4)}], \n",
    "\"Mathilde\": [{'maths': (4, 5)}, {'lang': (8, 1)}], \n",
    "\"Merlina\": [{'maths': (6, 8)}, {'lang': (4, 6)}], \n",
    "\"Zared\": [{'maths': (1, 9)}, {'lang': (5, 3)}], \n",
    "\"Brandais\": [{'maths': (3, 3)}, {'lang': (7, 1)}], \n",
    "\"Reggie\": [{'maths': (10, 2)}, {'lang': (10, 8)}], \n",
    "\"Burk\": [{'maths': (8, 7)}, {'lang': (5, 5)}], \n",
    "\"Seymour\": [{'maths': (5, 8)}, {'lang': (8, 3)}], \n",
    "\"Fergus\": [{'maths': (2, 3)}, {'lang': (5, 5)}], \n",
    "\"Jeanette\": [{'maths': (1, 5)}, {'lang': (5, 4)}], \n",
    "\"Arther\": [{'maths': (5, 5)}, {'lang': (9, 5)}], \n",
    "\"Avictor\": [{'maths': (9, 2)}, {'lang': (8, 5)}], \n",
    "\"Lynette\": [{'maths': (7, 2)}, {'lang': (10, 6)}], \n",
    "\"Briano\": [{'maths': (2, 2)}, {'lang': (4, 6)}], \n",
    "\"Daveta\": [{'maths': (4, 7)}, {'lang': (2, 9)}], \n",
    "\"Devonne\": [{'maths': (10, 2)}, {'lang': (6, 8)}], \n",
    "\"Chiarra\": [{'maths': (6, 1)}, {'lang': (4, 3)}], \n",
    "\"Torrey\": [{'maths': (2, 9)}, {'lang': (1, 3)}], \n",
    "\"Hattie\": [{'maths': (2, 5)}, {'lang': (7, 2)}], \n",
    "\"Florenza\": [{'maths': (10, 5)}, {'lang': (4, 4)}], \n",
    "\"Veronica\": [{'maths': (8, 6)}, {'lang': (3, 4)}], \n",
    "\"Jared\": [{'maths': (6, 1)}, {'lang': (1, 3)}], \n",
    "\"Lori\": [{'maths': (6, 1)}, {'lang': (10, 10)}], \n",
    "\"Kristopher\": [{'maths': (1, 2)}, {'lang': (4, 9)}], \n",
    "\"Jeanne\": [{'maths': (1, 1)}, {'lang': (1, 4)}], \n",
    "\"Maximilian\": [{'maths': (3, 3)}, {'lang': (10, 9)}], \n",
    "\"Merrily\": [{'maths': (5, 7)}, {'lang': (1, 3)}], \n",
    "\"Skipton\": [{'maths': (9, 6)}, {'lang': (4, 9)}], \n",
    "\"Tom\": [{'maths': (10, 5)}, {'lang': (1, 7)}], \n",
    "\"Cirilo\": [{'maths': (2, 2)}, {'lang': (6, 6)}], \n",
    "\"Warde\": [{'maths': (8, 7)}, {'lang': (9, 5)}], \n",
    "\"Woodie\": [{'maths': (10, 3)}, {'lang': (2, 1)}], \n",
    "\"Odetta\": [{'maths': (3, 7)}, {'lang': (7, 9)}], \n",
    "\"Cordelie\": [{'maths': (2, 3)}, {'lang': (9, 1)}], \n",
    "\"Wilow\": [{'maths': (10, 8)}, {'lang': (2, 6)}], \n",
    "\"Charissa\": [{'maths': (5, 3)}, {'lang': (5, 10)}], \n",
    "\"Ralina\": [{'maths': (10, 9)}, {'lang': (8, 2)}], \n",
    "\"Charisse\": [{'maths': (6, 5)}, {'lang': (1, 9)}], \n",
    "\"Huntley\": [{'maths': (8, 7)}, {'lang': (10, 3)}], \n",
    "\"Ella\": [{'maths': (4, 3)}, {'lang': (6, 8)}], \n",
    "\"Nelli\": [{'maths': (2, 6)}, {'lang': (5, 10)}], \n",
    "\"Gearalt\": [{'maths': (4, 9)}, {'lang': (4, 4)}], \n",
    "\"Zahara\": [{'maths': (2, 1)}, {'lang': (1, 4)}], \n",
    "\"Dilan\": [{'maths': (8, 6)}, {'lang': (7, 6)}], \n",
    "\"Frederique\": [{'maths': (5, 10)}, {'lang': (2, 8)}], \n",
    "\"Saba\": [{'maths': (9, 8)}, {'lang': (9, 9)}], \n",
    "\"Natalya\": [{'maths': (1, 5)}, {'lang': (5, 2)}], \n",
    "\"Myrah\": [{'maths': (3, 8)}, {'lang': (3, 5)}], \n",
    "\"Magnum\": [{'maths': (7, 1)}, {'lang': (2, 9)}], \n",
    "\"Grace\": [{'maths': (9, 4)}, {'lang': (6, 6)}], \n",
    "\"Ilysa\": [{'maths': (10, 9)}, {'lang': (8, 8)}], \n",
    "\"Clerkclaude\": [{'maths': (7, 2)}, {'lang': (10, 2)}], \n",
    "\"Yetty\": [{'maths': (8, 6)}, {'lang': (2, 4)}], \n",
    "\"Cassandre\": [{'maths': (6, 1)}, {'lang': (9, 5)}], \n",
    "\"Olympie\": [{'maths': (3, 3)}, {'lang': (10, 3)}], \n",
    "\"Joshuah\": [{'maths': (7, 7)}, {'lang': (9, 2)}], \n",
    "\"Kristine\": [{'maths': (3, 4)}, {'lang': (7, 7)}], \n",
    "\"Dean\": [{'maths': (8, 6)}, {'lang': (10, 10)}], \n",
    "\"Ilyssa\": [{'maths': (9, 7)}, {'lang': (5, 3)}], \n",
    "\"Nannie\": [{'maths': (6, 9)}, {'lang': (2, 10)}], \n",
    "\"Feodor\": [{'maths': (5, 6)}, {'lang': (3, 7)}], \n",
    "\"Guglielma\": [{'maths': (10, 3)}, {'lang': (9, 6)}], \n",
    "\"Alla\": [{'maths': (9, 10)}, {'lang': (7, 7)}], \n",
    "\"Rowland\": [{'maths': (4, 10)}, {'lang': (8, 7)}], \n",
    "\"Miquela\": [{'maths': (7, 5)}, {'lang': (2, 7)}], \n",
    "\"Sapphira\": [{'maths': (4, 6)}, {'lang': (5, 2)}], \n",
    "\"Zorina\": [{'maths': (3, 2)}, {'lang': (4, 9)}], \n",
    "\"Rosemonde\": [{'maths': (10, 6)}, {'lang': (9, 9)}], \n",
    "\"Alisa\": [{'maths': (1, 4)}, {'lang': (9, 5)}], \n",
    "\"Ginger\": [{'maths': (3, 4)}, {'lang': (1, 2)}], \n",
    "\"Karlis\": [{'maths': (9, 8)}, {'lang': (3, 1)}], \n",
    "\"Robbin\": [{'maths': (7, 5)}, {'lang': (10, 8)}], \n",
    "\"Kimberly\": [{'maths': (3, 7)}, {'lang': (8, 1)}], \n",
    "\"Udale\": [{'maths': (7, 1)}, {'lang': (1, 7)}], \n",
    "\"Isidor\": [{'maths': (8, 2)}, {'lang': (6, 3)}], \n",
    "\"Farlee\": [{'maths': (5, 10)}, {'lang': (9, 9)}], \n",
    "\"Katleen\": [{'maths': (8, 6)}, {'lang': (9, 3)}], \n",
    "\"Nanine\": [{'maths': (5, 7)}, {'lang': (9, 9)}], \n",
    "\"Marlow\": [{'maths': (2, 4)}, {'lang': (5, 2)}]\n",
    "}"
   ]
  },
  {
   "cell_type": "code",
   "execution_count": 25,
   "metadata": {},
   "outputs": [
    {
     "name": "stdout",
     "output_type": "stream",
     "text": [
      "[('Sosanna', [{'maths': (4, 3)}, {'lang': (5, 5)}]), ('Rosalind', [{'maths': (8, 6)}, {'lang': (10, 5)}]), ('Gaspar', [{'maths': (1, 6)}, {'lang': (7, 5)}]), ('Herve', [{'maths': (2, 5)}, {'lang': (8, 2)}]), ('Jayme', [{'maths': (5, 1)}, {'lang': (10, 7)}]), ('Dasya', [{'maths': (5, 3)}, {'lang': (8, 2)}]), ('Christean', [{'maths': (2, 10)}, {'lang': (3, 6)}]), ('Risa', [{'maths': (9, 9)}, {'lang': (2, 7)}]), ('Florenza', [{'maths': (10, 5)}, {'lang': (4, 4)}]), ('Donella', [{'maths': (10, 3)}, {'lang': (8, 3)}]), ('Cesaro', [{'maths': (2, 4)}, {'lang': (1, 7)}]), ('Beatrisa', [{'maths': (9, 2)}, {'lang': (1, 5)}]), ('Thain', [{'maths': (1, 7)}, {'lang': (6, 3)}]), ('Shaylah', [{'maths': (6, 7)}, {'lang': (2, 1)}]), ('Anne-marie', [{'maths': (4, 6)}, {'lang': (4, 3)}]), ('Swen', [{'maths': (8, 5)}, {'lang': (7, 6)}]), ('Vaclav', [{'maths': (1, 4)}, {'lang': (9, 10)}]), ('Hermine', [{'maths': (2, 1)}, {'lang': (8, 1)}]), ('Sybyl', [{'maths': (10, 2)}, {'lang': (3, 10)}]), ('Ynes', [{'maths': (6, 10)}, {'lang': (3, 2)}]), ('Antonie', [{'maths': (9, 3)}, {'lang': (4, 9)}]), ('Trixie', [{'maths': (9, 10)}, {'lang': (5, 4)}]), ('Mathilde', [{'maths': (4, 5)}, {'lang': (8, 1)}]), ('Merlina', [{'maths': (6, 8)}, {'lang': (4, 6)}]), ('Zared', [{'maths': (1, 9)}, {'lang': (5, 3)}]), ('Brandais', [{'maths': (3, 3)}, {'lang': (7, 1)}]), ('Reggie', [{'maths': (10, 2)}, {'lang': (10, 8)}]), ('Burk', [{'maths': (8, 7)}, {'lang': (5, 5)}]), ('Seymour', [{'maths': (5, 8)}, {'lang': (8, 3)}]), ('Fergus', [{'maths': (2, 3)}, {'lang': (5, 5)}]), ('Jeanette', [{'maths': (1, 5)}, {'lang': (5, 4)}]), ('Arther', [{'maths': (5, 5)}, {'lang': (9, 5)}]), ('Avictor', [{'maths': (9, 2)}, {'lang': (8, 5)}]), ('Lynette', [{'maths': (7, 2)}, {'lang': (10, 6)}]), ('Briano', [{'maths': (2, 2)}, {'lang': (4, 6)}]), ('Daveta', [{'maths': (4, 7)}, {'lang': (2, 9)}]), ('Devonne', [{'maths': (10, 2)}, {'lang': (6, 8)}]), ('Chiarra', [{'maths': (6, 1)}, {'lang': (4, 3)}]), ('Torrey', [{'maths': (2, 9)}, {'lang': (1, 3)}]), ('Hattie', [{'maths': (2, 5)}, {'lang': (7, 2)}]), ('Veronica', [{'maths': (8, 6)}, {'lang': (3, 4)}]), ('Jared', [{'maths': (6, 1)}, {'lang': (1, 3)}]), ('Lori', [{'maths': (6, 1)}, {'lang': (10, 10)}]), ('Kristopher', [{'maths': (1, 2)}, {'lang': (4, 9)}]), ('Jeanne', [{'maths': (1, 1)}, {'lang': (1, 4)}]), ('Maximilian', [{'maths': (3, 3)}, {'lang': (10, 9)}]), ('Merrily', [{'maths': (5, 7)}, {'lang': (1, 3)}]), ('Skipton', [{'maths': (9, 6)}, {'lang': (4, 9)}]), ('Tom', [{'maths': (10, 5)}, {'lang': (1, 7)}]), ('Cirilo', [{'maths': (2, 2)}, {'lang': (6, 6)}]), ('Warde', [{'maths': (8, 7)}, {'lang': (9, 5)}]), ('Woodie', [{'maths': (10, 3)}, {'lang': (2, 1)}]), ('Odetta', [{'maths': (3, 7)}, {'lang': (7, 9)}]), ('Cordelie', [{'maths': (2, 3)}, {'lang': (9, 1)}]), ('Wilow', [{'maths': (10, 8)}, {'lang': (2, 6)}]), ('Charissa', [{'maths': (5, 3)}, {'lang': (5, 10)}]), ('Ralina', [{'maths': (10, 9)}, {'lang': (8, 2)}]), ('Charisse', [{'maths': (6, 5)}, {'lang': (1, 9)}]), ('Huntley', [{'maths': (8, 7)}, {'lang': (10, 3)}]), ('Ella', [{'maths': (4, 3)}, {'lang': (6, 8)}]), ('Nelli', [{'maths': (2, 6)}, {'lang': (5, 10)}]), ('Gearalt', [{'maths': (4, 9)}, {'lang': (4, 4)}]), ('Zahara', [{'maths': (2, 1)}, {'lang': (1, 4)}]), ('Dilan', [{'maths': (8, 6)}, {'lang': (7, 6)}]), ('Frederique', [{'maths': (5, 10)}, {'lang': (2, 8)}]), ('Saba', [{'maths': (9, 8)}, {'lang': (9, 9)}]), ('Natalya', [{'maths': (1, 5)}, {'lang': (5, 2)}]), ('Myrah', [{'maths': (3, 8)}, {'lang': (3, 5)}]), ('Magnum', [{'maths': (7, 1)}, {'lang': (2, 9)}]), ('Grace', [{'maths': (9, 4)}, {'lang': (6, 6)}]), ('Ilysa', [{'maths': (10, 9)}, {'lang': (8, 8)}]), ('Clerkclaude', [{'maths': (7, 2)}, {'lang': (10, 2)}]), ('Yetty', [{'maths': (8, 6)}, {'lang': (2, 4)}]), ('Cassandre', [{'maths': (6, 1)}, {'lang': (9, 5)}]), ('Olympie', [{'maths': (3, 3)}, {'lang': (10, 3)}]), ('Joshuah', [{'maths': (7, 7)}, {'lang': (9, 2)}]), ('Kristine', [{'maths': (3, 4)}, {'lang': (7, 7)}]), ('Dean', [{'maths': (8, 6)}, {'lang': (10, 10)}]), ('Ilyssa', [{'maths': (9, 7)}, {'lang': (5, 3)}]), ('Nannie', [{'maths': (6, 9)}, {'lang': (2, 10)}]), ('Feodor', [{'maths': (5, 6)}, {'lang': (3, 7)}]), ('Guglielma', [{'maths': (10, 3)}, {'lang': (9, 6)}]), ('Alla', [{'maths': (9, 10)}, {'lang': (7, 7)}]), ('Rowland', [{'maths': (4, 10)}, {'lang': (8, 7)}]), ('Miquela', [{'maths': (7, 5)}, {'lang': (2, 7)}]), ('Sapphira', [{'maths': (4, 6)}, {'lang': (5, 2)}]), ('Zorina', [{'maths': (3, 2)}, {'lang': (4, 9)}]), ('Rosemonde', [{'maths': (10, 6)}, {'lang': (9, 9)}]), ('Alisa', [{'maths': (1, 4)}, {'lang': (9, 5)}]), ('Ginger', [{'maths': (3, 4)}, {'lang': (1, 2)}]), ('Karlis', [{'maths': (9, 8)}, {'lang': (3, 1)}]), ('Robbin', [{'maths': (7, 5)}, {'lang': (10, 8)}]), ('Kimberly', [{'maths': (3, 7)}, {'lang': (8, 1)}]), ('Udale', [{'maths': (7, 1)}, {'lang': (1, 7)}]), ('Isidor', [{'maths': (8, 2)}, {'lang': (6, 3)}]), ('Farlee', [{'maths': (5, 10)}, {'lang': (9, 9)}]), ('Katleen', [{'maths': (8, 6)}, {'lang': (9, 3)}]), ('Nanine', [{'maths': (5, 7)}, {'lang': (9, 9)}]), ('Marlow', [{'maths': (2, 4)}, {'lang': (5, 2)}])]\n",
      "<class 'list'>\n"
     ]
    }
   ],
   "source": [
    "# 1- Completar la nota media de cada alumno por asignatura_Ricardo\n",
    "copia_notas = dict(notas)\n",
    "lnotas = list(copia_notas.items())\n",
    "print (lnotas)\n",
    "print (type(lnotas))"
   ]
  },
  {
   "cell_type": "code",
   "execution_count": 26,
   "metadata": {},
   "outputs": [
    {
     "name": "stdout",
     "output_type": "stream",
     "text": [
      "{'Sosanna': [{'maths': (4, 3)}, {'lang': (5, 5)}], 'Rosalind': [{'maths': (8, 6)}, {'lang': (10, 5)}], 'Gaspar': [{'maths': (1, 6)}, {'lang': (7, 5)}]}\n"
     ]
    }
   ],
   "source": [
    "# Ricardo\n",
    "amplenotas = dict(lnotas[:3])\n",
    "print (samplenotas)"
   ]
  },
  {
   "cell_type": "code",
   "execution_count": 1,
   "metadata": {},
   "outputs": [],
   "source": [
    "dict1= {\n",
    "\"Sosanna\": [{'maths': (4, 3)}, {'lang': (5, 5)}], \n",
    "\"Rosalind\": [{'maths': (8, 6)}, {'lang': (10, 5)}], \n",
    "\"Gaspar\": [{'maths': (1, 6)}, {'lang': (7, 5)}], \n",
    "\"Herve\": [{'maths': (2, 5)}, {'lang': (8, 2)}], \n",
    "\"Jayme\": [{'maths': (5, 1)}, {'lang': (10, 7)}], \n",
    "\"Dasya\": [{'maths': (5, 3)}, {'lang': (8, 2)}], \n",
    "\"Christean\": [{'maths': (2, 10)}, {'lang': (3, 6)}], \n",
    "\"Risa\": [{'maths': (9, 9)}, {'lang': (2, 7)}]}\n",
    "\n",
    "# dict1 es un dicc donde cada clave es el nombre de un alumno y el valor asociado es una lista de diccionarios.\n",
    "# Cada dicc en la lista representa una asignatura con sus respectivas notas."
   ]
  },
  {
   "cell_type": "code",
   "execution_count": 11,
   "metadata": {},
   "outputs": [
    {
     "data": {
      "text/plain": [
       "dict_items([('Sosanna', [{'maths': (4, 3)}, {'lang': (5, 5)}]), ('Rosalind', [{'maths': (8, 6)}, {'lang': (10, 5)}]), ('Gaspar', [{'maths': (1, 6)}, {'lang': (7, 5)}]), ('Herve', [{'maths': (2, 5)}, {'lang': (8, 2)}]), ('Jayme', [{'maths': (5, 1)}, {'lang': (10, 7)}]), ('Dasya', [{'maths': (5, 3)}, {'lang': (8, 2)}]), ('Christean', [{'maths': (2, 10)}, {'lang': (3, 6)}]), ('Risa', [{'maths': (9, 9)}, {'lang': (2, 7)}])])"
      ]
     },
     "execution_count": 11,
     "metadata": {},
     "output_type": "execute_result"
    }
   ],
   "source": [
    "dict2=dict1.items()\n",
    "dict2"
   ]
  },
  {
   "cell_type": "code",
   "execution_count": 12,
   "metadata": {},
   "outputs": [
    {
     "name": "stdout",
     "output_type": "stream",
     "text": [
      "Sosanna :\n",
      "maths (4, 3) 3.5\n",
      "lang (5, 5) 5.0\n",
      "Rosalind :\n",
      "maths (8, 6) 7.0\n",
      "lang (10, 5) 7.5\n",
      "Gaspar :\n",
      "maths (1, 6) 3.5\n",
      "lang (7, 5) 6.0\n",
      "Herve :\n",
      "maths (2, 5) 3.5\n",
      "lang (8, 2) 5.0\n",
      "Jayme :\n",
      "maths (5, 1) 3.0\n",
      "lang (10, 7) 8.5\n",
      "Dasya :\n",
      "maths (5, 3) 4.0\n",
      "lang (8, 2) 5.0\n",
      "Christean :\n",
      "maths (2, 10) 6.0\n",
      "lang (3, 6) 4.5\n",
      "Risa :\n",
      "maths (9, 9) 9.0\n",
      "lang (2, 7) 4.5\n"
     ]
    }
   ],
   "source": [
    "#1- Completar la nota media de cada alumno por asignatura.\n",
    "for alumno, lista_notas in dict1.items(): #iterar sobre el diccionario creando una tupla (for x,y in dict.items())\n",
    "    print (alumno,\":\")\n",
    "    for notas_asignaturas in lista_notas: #iterar sobre la lista (for x in list)\n",
    "        for asignatura, notas_asignatura in notas_asignaturas.items():   #iterar sobre el diccionario de materia y notas\n",
    "            nota_media=sum(notas_asignatura)/2\n",
    "            print(asignatura,notas_asignatura, nota_media)\n",
    "#la salida no es el diccionario principal\n",
    "            \n"
   ]
  },
  {
   "cell_type": "code",
   "execution_count": 61,
   "metadata": {},
   "outputs": [
    {
     "name": "stdout",
     "output_type": "stream",
     "text": [
      "{'maths': [(4, 3), 3.5]}\n",
      "{'lang': [(5, 5), 5.0]}\n",
      "{'maths': [(8, 6), 7.0]}\n",
      "{'lang': [(10, 5), 7.5]}\n",
      "{'maths': [(1, 6), 3.5]}\n",
      "{'lang': [(7, 5), 6.0]}\n",
      "{'maths': [(2, 5), 3.5]}\n",
      "{'lang': [(8, 2), 5.0]}\n",
      "{'maths': [(5, 1), 3.0]}\n",
      "{'lang': [(10, 7), 8.5]}\n",
      "{'maths': [(5, 3), 4.0]}\n",
      "{'lang': [(8, 2), 5.0]}\n",
      "{'maths': [(2, 10), 6.0]}\n",
      "{'lang': [(3, 6), 4.5]}\n",
      "{'maths': [(9, 9), 9.0]}\n",
      "{'lang': [(2, 7), 4.5]}\n",
      "{'Sosanna': [{'maths': [(4, 3), 3.5]}, {'lang': [(5, 5), 5.0]}], 'Rosalind': [{'maths': [(8, 6), 7.0]}, {'lang': [(10, 5), 7.5]}], 'Gaspar': [{'maths': [(1, 6), 3.5]}, {'lang': [(7, 5), 6.0]}], 'Herve': [{'maths': [(2, 5), 3.5]}, {'lang': [(8, 2), 5.0]}], 'Jayme': [{'maths': [(5, 1), 3.0]}, {'lang': [(10, 7), 8.5]}], 'Dasya': [{'maths': [(5, 3), 4.0]}, {'lang': [(8, 2), 5.0]}], 'Christean': [{'maths': [(2, 10), 6.0]}, {'lang': [(3, 6), 4.5]}], 'Risa': [{'maths': [(9, 9), 9.0]}, {'lang': [(2, 7), 4.5]}]}\n"
     ]
    }
   ],
   "source": [
    "#1- Completar la nota media de cada alumno por asignatura con salida el diccionario original a completar\n",
    "dict1= {\n",
    "\"Sosanna\": [{'maths': (4, 3)}, {'lang': (5, 5)}], \n",
    "\"Rosalind\": [{'maths': (8, 6)}, {'lang': (10, 5)}], \n",
    "\"Gaspar\": [{'maths': (1, 6)}, {'lang': (7, 5)}], \n",
    "\"Herve\": [{'maths': (2, 5)}, {'lang': (8, 2)}], \n",
    "\"Jayme\": [{'maths': (5, 1)}, {'lang': (10, 7)}], \n",
    "\"Dasya\": [{'maths': (5, 3)}, {'lang': (8, 2)}], \n",
    "\"Christean\": [{'maths': (2, 10)}, {'lang': (3, 6)}], \n",
    "\"Risa\": [{'maths': (9, 9)}, {'lang': (2, 7)}]}\n",
    "\n",
    "diccionario_con_media={} # diccionario vacío a construir\n",
    "for alumno, lista_notas in dict1.items(): #iterar sobre el diccionario creando una tupla (for x,y in dict.items())\n",
    "    diccionario_con_media[alumno]=[] #Añade una nueva entrada al diccionario con la clave alumno y una lista vacía como valor.\n",
    "    for notas_asignaturas in lista_notas: #iterar sobre la lista (for x in list)\n",
    "        notas_asignaturas_nuevo={}\n",
    "        for asignatura, notas_asignatura in notas_asignaturas.items(): #iterar sobre el diccionario de materia y notas\n",
    "            nota_media=sum(notas_asignatura)/2\n",
    "            notas_asignaturas_nuevo[asignatura]=[notas_asignatura, nota_media]\n",
    "            print(notas_asignaturas_nuevo)\n",
    "            diccionario_con_media[alumno].append(notas_asignaturas_nuevo)\n",
    "print(diccionario_con_media)\n",
    "\n",
    "\n",
    "\n",
    "\n",
    "\n",
    "\n"
   ]
  },
  {
   "cell_type": "code",
   "execution_count": 8,
   "metadata": {},
   "outputs": [
    {
     "name": "stdout",
     "output_type": "stream",
     "text": [
      "[]\n",
      "[]\n",
      "{'Ana': [], 'Luis': []}\n"
     ]
    }
   ],
   "source": [
    "# Diccionario original con dos alumnos y sus asignaturas\n",
    "dict1 = {\"Ana\": [{'maths': (4, 3)}, {'lang': (5, 5)}],\n",
    "    \"Luis\":[{'maths': (8, 6)}, {'lang': (10, 5)}]}\n",
    "\n",
    "# Crear un nuevo diccionario para almacenar las notas medias\n",
    "dict1_con_medias = {}\n",
    "# Iterar sobre el diccionario original y añadir una lista vacía para cada alumno\n",
    "for alumno in dict1:\n",
    "    lista=dict1_con_medias[alumno] = []\n",
    "    print(lista)\n",
    "print(dict1_con_medias)\n",
    "# Salida: {'Ana': [], 'Luis': []}"
   ]
  },
  {
   "cell_type": "code",
   "execution_count": null,
   "metadata": {},
   "outputs": [],
   "source": []
  },
  {
   "cell_type": "code",
   "execution_count": null,
   "metadata": {},
   "outputs": [],
   "source": []
  }
 ],
 "metadata": {
  "kernelspec": {
   "display_name": "Python 3.8 - AzureML",
   "language": "python",
   "name": "python38-azureml"
  }
 },
 "nbformat": 4,
 "nbformat_minor": 2
}
